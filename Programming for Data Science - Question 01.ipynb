{
 "cells": [
  {
   "attachments": {},
   "cell_type": "markdown",
   "metadata": {},
   "source": [
    "# Part A\n"
   ]
  },
  {
   "attachments": {},
   "cell_type": "markdown",
   "metadata": {},
   "source": [
    "Inheritance is one of the key concepts in object-oriented programming (OOP) in Python. It uses where a child class inherits the features, attributes, parameters, and behaviors from the parent class. The main advantage of inheritance is the ability to reuse the components of  parent class can be used in the child class defined earlier and reduces the size of the program.\n",
    "\n",
    "In the real-world cars have common features that we call as a car. As a basic car has its own car color, model name, manufacturer name, engine, car seats, and exterior components. For instance, if the parent class as a cars could have common features of above mentioned properties and each class which could have bearing inherited those properties can be called as child classes. The concept of inheritance is explained in the below Python code.\n",
    "\n"
   ]
  },
  {
   "cell_type": "code",
   "execution_count": 8,
   "metadata": {},
   "outputs": [],
   "source": [
    "class Cars:\n",
    "\n",
    "    def _init_(self, make, model):\n",
    "        self.make = make\n",
    "        self.model = model\n",
    "    \n",
    "    def get_details(self):\n",
    "        return \"Make: {self.make}, Model: {self.model}\"\n",
    "\n",
    "class Sedan(Cars):\n",
    "\n",
    "    def _init_(self, make, model, year):\n",
    "    # Initialize attributes of parent class\n",
    "        super()._init_(make, model)\n",
    "        self.year = year\n",
    "    \n",
    "    def get_details(self):\n",
    "        # Override method of parent class\n",
    "        return \"Make: {self.make}, Model: {self.model}, Year: {self.year}\"\n",
    "\n",
    "class SUV(Cars):\n",
    "\n",
    "    def _init_(self, make, model, seating_capacity):\n",
    "        # Initialize attributes of parent class\n",
    "        super()._init_(make, model)\n",
    "        self.seating_capacity = seating_capacity\n"
   ]
  },
  {
   "attachments": {},
   "cell_type": "markdown",
   "metadata": {},
   "source": [
    "# Part B\n"
   ]
  },
  {
   "cell_type": "code",
   "execution_count": 2,
   "metadata": {},
   "outputs": [],
   "source": [
    "\n",
    "#Question B\n",
    "class Detector:\n",
    "    def __init__(self, tag, position, date):\n",
    "        self.tag=tag\n",
    "        self.position= position\n",
    "        self.date=date\n",
    "        self.data= {}\n",
    "\n",
    "    # define method include_data\n",
    "    def include_data(self,t, data):\n",
    "        dict = {'time':t,\n",
    "                'data':data\n",
    "                           }\n",
    "        self.data=dict\n",
    "\n",
    "    #define method clear_data\n",
    "    def clear_data(self):\n",
    "        self.data={}\n",
    "\n"
   ]
  },
  {
   "attachments": {},
   "cell_type": "markdown",
   "metadata": {},
   "source": [
    "# Part C"
   ]
  },
  {
   "cell_type": "code",
   "execution_count": 3,
   "metadata": {},
   "outputs": [
    {
     "name": "stdout",
     "output_type": "stream",
     "text": [
      "[0.16748133 0.09409258 0.38088034 0.52858998 0.55486802 0.24668445\n",
      " 0.79892409 0.37477009 0.85344997 0.92649177]\n",
      "{'time': datetime.time(22, 12, 35, 10640), 'data': array([0.16748133, 0.09409258, 0.38088034, 0.52858998, 0.55486802,\n",
      "       0.24668445, 0.79892409, 0.37477009, 0.85344997, 0.92649177])}\n"
     ]
    }
   ],
   "source": [
    "#Question C\n",
    "import numpy as np\n",
    "from datetime import datetime\n",
    "\n",
    "#create a detector object\n",
    "detector = Detector(1, 2, datetime.now())\n",
    "\n",
    "#generate 10 random numbers and asign to data\n",
    "data = np.random.random_sample(10)\n",
    "print(data)\n",
    "#store data\n",
    "detector.include_data(datetime.now().time(),data)\n",
    "print(detector.data)"
   ]
  },
  {
   "attachments": {},
   "cell_type": "markdown",
   "metadata": {},
   "source": [
    "# Part D"
   ]
  },
  {
   "cell_type": "code",
   "execution_count": 4,
   "metadata": {},
   "outputs": [
    {
     "name": "stdout",
     "output_type": "stream",
     "text": [
      "I am a Thermometer!\n",
      "{'time': datetime.time(22, 12, 35, 59509), 'data': array([0.56411496, 0.12062794, 0.02087614, 0.99648948, 0.68560576,\n",
      "       0.96538321, 0.85346251, 0.76287298, 0.35286722, 0.1160698 ])}\n"
     ]
    }
   ],
   "source": [
    "\n",
    "from datetime import datetime\n",
    "import numpy as np\n",
    "    \n",
    "##Question D\n",
    "class Thermometer(Detector):\n",
    "    def show_type(self):\n",
    "        print(\"I am a Thermometer!\")\n",
    "\n",
    "#create a thermometer object\n",
    "thermometer = Thermometer(1, 2, datetime.now())\n",
    "\n",
    "#show_type of the created thermometer object\n",
    "thermometer.show_type()\n",
    "\n",
    "#generate 10 random numbers and assign to data\n",
    "data = np.random.random_sample(10)\n",
    "\n",
    "#store data\n",
    "thermometer.include_data(datetime.now().time(), data)\n",
    "print(thermometer.data)"
   ]
  },
  {
   "attachments": {},
   "cell_type": "markdown",
   "metadata": {},
   "source": [
    "# Part E"
   ]
  },
  {
   "cell_type": "code",
   "execution_count": 5,
   "metadata": {},
   "outputs": [
    {
     "name": "stdout",
     "output_type": "stream",
     "text": [
      "1\n"
     ]
    }
   ],
   "source": [
    "\n",
    "#Question E\n",
    "\n",
    "from datetime import datetime\n",
    "\n",
    "class ThermometeInheritance(Thermometer):\n",
    "    def show_type(self):\n",
    "        print(self.tag)\n",
    "\n",
    "thermometer_inhert = ThermometeInheritance(1, 2, datetime.now())\n",
    "thermometer_inhert.show_type()\n",
    "\n",
    "\n",
    "\n"
   ]
  },
  {
   "attachments": {},
   "cell_type": "markdown",
   "metadata": {},
   "source": [
    " The code defines a class ThermometeInheritance which inherits from the class Thermometer. \n",
    " The ThermometeInheritance class has a method show_type() which is an override of a method with the same name in the parent class. \n",
    " When the method show_type() is called on an instance of ThermometeInheritance, it will use the implementation defined in the child class instead of the one in the parent class. \n",
    " The output of the code will be the value of self.tag as defined in the child class"
   ]
  },
  {
   "attachments": {},
   "cell_type": "markdown",
   "metadata": {},
   "source": [
    "# Part F"
   ]
  },
  {
   "cell_type": "code",
   "execution_count": 6,
   "metadata": {},
   "outputs": [
    {
     "name": "stdout",
     "output_type": "stream",
     "text": [
      "Version 2.0\n"
     ]
    }
   ],
   "source": [
    "#Question F\n",
    "\n",
    "class Detector:\n",
    "    def __init__(self,tag,position):\n",
    "        self.tag= tag\n",
    "        self._position= position\n",
    "        self._version = '1.0'\n",
    "\n",
    "#define getter function\n",
    "    def get_version(self):\n",
    "        return self._version\n",
    "\n",
    "#define setter function\n",
    "    def set_version(self,version):\n",
    "        self._version= version\n",
    "\n",
    "#Create a new Object\n",
    "New_Detector= Detector(1.0,23)\n",
    "\n",
    "#set the Version\n",
    "New_Detector.set_version(\"Version 2.0\")\n",
    "\n",
    "#get the Version\n",
    "print(New_Detector.get_version())"
   ]
  },
  {
   "attachments": {},
   "cell_type": "markdown",
   "metadata": {},
   "source": [
    "The code is an example of encapsulation in programming. \n",
    "Encapsulation means grouping together data and the ways to access or change that data within an object. \n",
    "In the code, the Detector class has an attribute _version that holds the version number and two methods get_version and set_version \n",
    "to access and change the version, respectively. \n",
    "The _version attribute is made private by the underscore in its name, making it inaccessible from outside the object. \n",
    "The get_version and set_version methods provide a controlled way to access and change the version."
   ]
  },
  {
   "attachments": {},
   "cell_type": "markdown",
   "metadata": {},
   "source": [
    "# Part G"
   ]
  },
  {
   "attachments": {},
   "cell_type": "markdown",
   "metadata": {},
   "source": [
    "Polymorphism means to have many forms. As a real-world example, a person can play many roles in his life \n",
    "such as a partner, a parent, as a co-worker, as a manager, and so on. But all together is playing all the roles in one person. \n",
    "\n"
   ]
  },
  {
   "attachments": {},
   "cell_type": "markdown",
   "metadata": {},
   "source": [
    "Polymorphism is the objects, parameters, and functions which are owned by certain parent class or child classes and also \n",
    "having code objects of same identical names in the same inherited hierarchical tree but may have different actions and behaviors according to the situation\n",
    "or use cases.\n"
   ]
  },
  {
   "attachments": {},
   "cell_type": "markdown",
   "metadata": {},
   "source": [
    "Polymorphism has two main concepts which are overloading and overriding. These two concepts use in different use-case scenarios.\n",
    "\n",
    "Overloading is when a child class inherits the parameters and properties of a parent class and also adds more parameters in the same name to the existing or new child classes to function more features in the program. As an example, a person has many common qualities and behaviors. Such as first name, last name, salutation, age, and education level. In order to use features as parameters in a sub-child class while adding new parameters which are not available in the parent class or other child classes.\n",
    "\n"
   ]
  },
  {
   "attachments": {},
   "cell_type": "markdown",
   "metadata": {},
   "source": [
    "Overriding is when the existing function name, parameters, and functions are the same but the function body is different, creating a change in an existing code method to a new code method in an existing class or new class.\n"
   ]
  },
  {
   "attachments": {},
   "cell_type": "markdown",
   "metadata": {},
   "source": [
    "The concept of Polymorphism is explained in the following Python code. "
   ]
  },
  {
   "cell_type": "code",
   "execution_count": 7,
   "metadata": {},
   "outputs": [],
   "source": [
    "class Person:\n",
    "  def _init_(self, fname, lname):\n",
    "    self.firstname = fname\n",
    "    self.lastname = lname\n",
    "\n",
    "  #overloading\n",
    "  def printname(self):\n",
    "    print(self.firstname, self.lastname)\n",
    "\n",
    "  def printname(self,salutation):\n",
    "    print(salutation,self.firstname, self.lastname)\n",
    " \n",
    "  def printname(self,salutation,education):\n",
    "    print(salutation,education,self.firstname, self.lastname)\n",
    "    \n",
    "\n",
    "class Student(Person):\n",
    "  #overriding\n",
    "  def printname(self):\n",
    "      print(\"Student's name is \", self.firstname, self.lastname)\n"
   ]
  },
  {
   "cell_type": "code",
   "execution_count": null,
   "metadata": {},
   "outputs": [],
   "source": []
  },
  {
   "cell_type": "code",
   "execution_count": null,
   "metadata": {},
   "outputs": [],
   "source": []
  }
 ],
 "metadata": {
  "kernelspec": {
   "display_name": "Python 3",
   "language": "python",
   "name": "python3"
  },
  "language_info": {
   "codemirror_mode": {
    "name": "ipython",
    "version": 3
   },
   "file_extension": ".py",
   "mimetype": "text/x-python",
   "name": "python",
   "nbconvert_exporter": "python",
   "pygments_lexer": "ipython3",
   "version": "3.9.12"
  },
  "orig_nbformat": 4,
  "vscode": {
   "interpreter": {
    "hash": "d28485ee8f8c082469aa9c9d84217066a73599a753c6a6ba75f1cb77654baebd"
   }
  }
 },
 "nbformat": 4,
 "nbformat_minor": 2
}
