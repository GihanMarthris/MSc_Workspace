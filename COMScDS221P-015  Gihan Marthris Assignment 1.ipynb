{
 "cells": [
  {
   "attachments": {},
   "cell_type": "markdown",
   "metadata": {},
   "source": [
    "# COMScDS221P-015  Gihan Marthris"
   ]
  },
  {
   "attachments": {},
   "cell_type": "markdown",
   "metadata": {},
   "source": [
    "# Task 01 Q01\n",
    "\n",
    "## A.\n",
    " We use probability therory for these kind of situations.specifically the theory of combinations and permutations.\n",
    "\n",
    "## B.\n",
    " Combinations and permutations are used to determine the number of possible outcomes when selecting a certain number of objects from a larger set.\n",
    "\n",
    "Permutations: The number of ways to arrange a set of objects in a specific order. The formula for permutations is:\n",
    "\n",
    "n P r = n! / (n - r)!\n",
    "\n",
    "where n is the total number of objects, and r is the number of objects being arranged. The exclamation mark denotes the factorial function, which is the product of all positive integers up to and including the given number. For example, 5! = 5 x 4 x 3 x 2 x 1 = 120.\n",
    "\n",
    "Combinations: The number of ways to choose a subset of objects from a larger set, without regard to order. The formula for combinations is:\n",
    "\n",
    "n C r = n! / (r! * (n - r)!)\n",
    "\n",
    "where n is the total number of objects, and r is the number of objects being chosen. The exclamation mark denotes the factorial function, as before.\n",
    "\n",
    "## C.\n",
    "Step 1: Determine the total number of ways to draw any five cards from the deck of 52 cards. This can be calculated using the combination formula: 52 C 5.\n",
    "\n",
    "Total number of ways = 52! / (5! * (52 - 5)!)\n",
    "= 52! / (5! * 47!)\n",
    "= (52 * 51 * 50 * 49 * 48) / (5 * 4 * 3 * 2 * 1)\n",
    "= 2,598,960\n",
    "\n",
    "Step 2: Determine the number of ways to draw five cards of the same suit. Since there are four suits in a deck, we can choose any one of the suits and then draw all five cards from that suit. Therefore, the number of ways to draw five cards of the same suit is: 4 * 13 C 5.\n",
    "\n",
    "Number of ways = 4 * 13! / (5! * (13 - 5)!)\n",
    "= 4 * 13! / (5! * 8!)\n",
    "= (4 * 13 * 12 * 11 * 10 * 9) / (5 * 4 * 3 * 2 * 1)\n",
    "= 5,148\n",
    "\n",
    "Step 3: Calculate the probability by dividing the number of favorable outcomes (drawing five cards of the same suit) by the total number of possible outcomes (drawing any five cards from the deck).\n",
    "\n",
    "Probability = Number of ways / Total number of ways\n",
    "= 5,148 / 2,598,960\n",
    "≈ 0.00198\n",
    "\n",
    "Therefore, the probability that all five cards drawn are of the same suit is approximately 0.00198 or 0.198%.\n",
    "\n",
    "\n",
    "\n",
    "\n",
    "\n"
   ]
  },
  {
   "attachments": {},
   "cell_type": "markdown",
   "metadata": {},
   "source": [
    "# D."
   ]
  },
  {
   "cell_type": "code",
   "execution_count": 63,
   "metadata": {},
   "outputs": [
    {
     "name": "stdout",
     "output_type": "stream",
     "text": [
      "Probability of drawing all 5 cards of the same suit: 0.0019807923169267707\n"
     ]
    }
   ],
   "source": [
    "# Step 1: Calculate the total number of ways to draw any 5 cards from the deck\n",
    "total_ways = 1\n",
    "for i in range(5):\n",
    "    total_ways *= (52 - i)\n",
    "for i in range(1, 6):\n",
    "    total_ways //= i\n",
    "\n",
    "# Step 2: Calculate the number of ways to draw 5 cards of the same suit\n",
    "ways_same_suit = 4 * 1\n",
    "for i in range(5):\n",
    "    ways_same_suit *= (13 - i)\n",
    "for i in range(1, 6):\n",
    "    ways_same_suit //= i\n",
    "\n",
    "# Step 3: Calculate the probability\n",
    "probability = ways_same_suit / total_ways\n",
    "\n",
    "# Step 4: Print the result\n",
    "print(\"Probability of drawing all 5 cards of the same suit:\", probability)\n"
   ]
  },
  {
   "attachments": {},
   "cell_type": "markdown",
   "metadata": {},
   "source": [
    "# E."
   ]
  },
  {
   "cell_type": "code",
   "execution_count": 2,
   "metadata": {},
   "outputs": [
    {
     "name": "stdout",
     "output_type": "stream",
     "text": [
      "The probability of drawing all 5 cards of the same suit is: 0.0019807923169267707\n"
     ]
    }
   ],
   "source": [
    "import math\n",
    "\n",
    "def calculate_probability():\n",
    "    total_ways = math.comb(52, 5)\n",
    "    favorable_ways = 4 * math.comb(13, 5)\n",
    "    probability = favorable_ways / total_ways\n",
    "    return probability\n",
    "\n",
    "probability_same_suit = calculate_probability()\n",
    "\n",
    "print(f\"The probability of drawing all 5 cards of the same suit is: {probability_same_suit}\")\n"
   ]
  },
  {
   "attachments": {},
   "cell_type": "markdown",
   "metadata": {},
   "source": [
    "# Q02\n",
    "\n",
    "# A."
   ]
  },
  {
   "attachments": {},
   "cell_type": "markdown",
   "metadata": {},
   "source": [
    "Let's denote the probability of a light bulb being defective as p, which is given as 0.02 (2%). Since we want to calculate the probability that all 10 bulbs are defective, we need to calculate P(X = 10), where X follows a binomial distribution with parameters n = 10 (number of trials) and p = 0.02 (probability of success).\n",
    "\n",
    "The probability mass function (PMF) of the binomial distribution is given by:\n",
    "\n",
    "P(X = k) = C(n, k) * p^k * (1 - p)^(n - k),\n",
    "\n",
    "where C(n, k) is the binomial coefficient, given by C(n, k) = n! / (k! * (n - k)!)\n",
    "\n",
    "Plugging in the values, we have:\n",
    "\n",
    "P(X = 10) = C(10, 10) * 0.02^10 * (1 - 0.02)^(10 - 10).\n",
    "\n",
    "C(10, 10) = 10! / (10! * (10 - 10)!) = 1.\n",
    "\n",
    "Therefore, the probability that the entire batch of 10 bulbs is defective is:\n",
    "\n",
    "P(X = 10) = 1 * 0.02^10 * (1 - 0.02)^(10 - 10) = 0.02^10 = 0.0000000004.\n",
    "\n",
    "So, the probability that the entire batch of 10 bulbs is defective is approximately 0.0000000004, or 4 in 10 billion."
   ]
  },
  {
   "attachments": {},
   "cell_type": "markdown",
   "metadata": {},
   "source": [
    "# Check "
   ]
  },
  {
   "attachments": {},
   "cell_type": "markdown",
   "metadata": {},
   "source": [
    "# B.\n",
    "## i."
   ]
  },
  {
   "cell_type": "code",
   "execution_count": 4,
   "metadata": {},
   "outputs": [
    {
     "name": "stdout",
     "output_type": "stream",
     "text": [
      "Requirement already satisfied: scipy in c:\\users\\gihan\\anaco\\lib\\site-packages (1.7.3)\n",
      "Requirement already satisfied: numpy<1.23.0,>=1.16.5 in c:\\users\\gihan\\anaco\\lib\\site-packages (from scipy) (1.21.5)\n",
      "Note: you may need to restart the kernel to use updated packages.\n"
     ]
    },
    {
     "name": "stderr",
     "output_type": "stream",
     "text": [
      "\n",
      "[notice] A new release of pip is available: 23.0.1 -> 23.1.2\n",
      "[notice] To update, run: python.exe -m pip install --upgrade pip\n"
     ]
    }
   ],
   "source": [
    "pip install scipy\n"
   ]
  },
  {
   "cell_type": "code",
   "execution_count": 42,
   "metadata": {},
   "outputs": [],
   "source": [
    "from scipy.stats import binom\n",
    "\n",
    "n = 10  # Number of light bulbs in the batch\n",
    "p = 0.02  # Probability of a light bulb being defective\n",
    "k = 3  # Number of defective bulbs observed\n",
    "\n"
   ]
  },
  {
   "attachments": {},
   "cell_type": "markdown",
   "metadata": {},
   "source": [
    "## ii."
   ]
  },
  {
   "cell_type": "code",
   "execution_count": 43,
   "metadata": {},
   "outputs": [
    {
     "data": {
      "text/plain": [
       "0.0008334005119168507"
      ]
     },
     "execution_count": 43,
     "metadata": {},
     "output_type": "execute_result"
    }
   ],
   "source": [
    "likelihood_pmf = binom.pmf(k, n, p)\n",
    "likelihood_pmf"
   ]
  },
  {
   "attachments": {},
   "cell_type": "markdown",
   "metadata": {},
   "source": [
    "## iii."
   ]
  },
  {
   "cell_type": "code",
   "execution_count": 44,
   "metadata": {},
   "outputs": [
    {
     "data": {
      "text/plain": [
       "0.9999999999999996"
      ]
     },
     "execution_count": 44,
     "metadata": {},
     "output_type": "execute_result"
    }
   ],
   "source": [
    "evidence = sum(binom.pmf(k, n, p) for k in range(n + 1))\n",
    "evidence\n",
    "# check this the answer\n"
   ]
  },
  {
   "attachments": {},
   "cell_type": "markdown",
   "metadata": {},
   "source": [
    "## iv."
   ]
  },
  {
   "cell_type": "code",
   "execution_count": 46,
   "metadata": {},
   "outputs": [
    {
     "name": "stdout",
     "output_type": "stream",
     "text": [
      "Likelihood: 0.0008334005119168507\n",
      "Evidence: 0.9999999999999996\n",
      "Posterior probability: 0.000833400511916851\n"
     ]
    }
   ],
   "source": [
    "from scipy.stats import binom\n",
    "\n",
    "n = 10  # Number of light bulbs in the batch\n",
    "p = 0.02  # Probability of a light bulb being defective\n",
    "k = 3  # Number of defective bulbs observed\n",
    "\n",
    "likelihood_pmf = binom.pmf(k, n, p)\n",
    "evidence = sum(binom.pmf(k, n, p) for k in range(n + 1))\n",
    "posterior = likelihood_pmf / evidence\n",
    "\n",
    "print(\"Likelihood:\", likelihood_pmf)\n",
    "print(\"Evidence:\", evidence)\n",
    "print(\"Posterior probability:\", posterior)\n"
   ]
  },
  {
   "attachments": {},
   "cell_type": "markdown",
   "metadata": {},
   "source": [
    "# Q03"
   ]
  },
  {
   "cell_type": "code",
   "execution_count": 67,
   "metadata": {},
   "outputs": [
    {
     "name": "stdout",
     "output_type": "stream",
     "text": [
      "t-statistic: -2.1384973069207542\n",
      "Critical t-value: 2.0017174830120923\n",
      "p-value: 0.036699849261059514\n",
      "Conclusion: Reject the null hypothesis. The new product has a higher strength than the old product.\n"
     ]
    }
   ],
   "source": [
    "import numpy as np\n",
    "from scipy.stats import t\n",
    "\n",
    "# Old Product Sample statistics\n",
    "x1 = 85\n",
    "s1 = 10\n",
    "n1 = 30\n",
    "\n",
    "# New Product Sample Statistcs\n",
    "x2 = 90\n",
    "s2 = 8\n",
    "n2 = 30\n",
    "\n",
    "alpha = 0.05\n",
    "\n",
    "# Calculate pooled standard deviation\n",
    "sp = np.sqrt(((n1-1)*s1**2 + (n2-1)*s2**2) / (n1+n2-2))\n",
    "\n",
    "# Calculate t-statistic\n",
    "t_statistic = (x1 - x2) / (sp * np.sqrt(1/n1 + 1/n2))\n",
    "\n",
    "# Calculate degrees of freedom\n",
    "df = n1 + n2 - 2\n",
    "\n",
    "# Calculate critical t-value\n",
    "critical_t = t.ppf(1 - alpha/2, df)\n",
    "\n",
    "# Calculate p-value\n",
    "p_value = 2 * (1 - t.cdf(abs(t_statistic), df))\n",
    "\n",
    "# Make a decision\n",
    "if t_statistic > critical_t or p_value < alpha:\n",
    "    conclusion = \"Reject the null hypothesis. The new product has a higher strength than the old product.\"\n",
    "else:\n",
    "    conclusion = \"Fail to reject the null hypothesis. There is not enough evidence to suggest that the\",\n",
    "    \"new product has a higher strength than the old product.\"\n",
    "\n",
    "# Print the results\n",
    "print(\"t-statistic:\", t_statistic)\n",
    "print(\"Critical t-value:\", critical_t)\n",
    "print(\"p-value:\", p_value)\n",
    "print(\"Conclusion:\", conclusion)\n"
   ]
  },
  {
   "attachments": {},
   "cell_type": "markdown",
   "metadata": {},
   "source": [
    "# Task 02 Q01"
   ]
  },
  {
   "cell_type": "code",
   "execution_count": 88,
   "metadata": {},
   "outputs": [
    {
     "name": "stdout",
     "output_type": "stream",
     "text": [
      "Predicted_Y Values:  [0.209 0.244 0.337 0.482 0.673 0.904 1.169 1.462 1.777 2.108]\n",
      "Residual Values :  [-0.009  0.356  0.763  1.018  1.127  1.096  0.931  0.738  0.523  0.292]\n",
      "Sum of Residual values 6.834999999999999\n",
      "X = 0 - Residual = -0.00899999999999998\n",
      "X = 1 - Residual = 0.356\n",
      "X = 2 - Residual = 0.7630000000000001\n",
      "X = 3 - Residual = 1.018\n",
      "X = 4 - Residual = 1.127\n",
      "X = 5 - Residual = 1.096\n",
      "X = 6 - Residual = 0.9309999999999998\n",
      "X = 7 - Residual = 0.738\n",
      "X = 8 - Residual = 0.5229999999999997\n",
      "X = 9 - Residual = 0.2919999999999998\n",
      "Squared Error for X = 0 : 8e-05\n",
      "Squared Error for X = 1 : 0.12674\n",
      "Squared Error for X = 2 : 0.58217\n",
      "Squared Error for X = 3 : 1.03632\n",
      "Squared Error for X = 4 : 1.27013\n",
      "Squared Error for X = 5 : 1.20122\n",
      "Squared Error for X = 6 : 0.86676\n",
      "Squared Error for X = 7 : 0.54464\n",
      "Squared Error for X = 8 : 0.27353\n",
      "Squared Error for X = 9 : 0.08526\n",
      "Sum of Squared Errors (SSE): 5.986853\n",
      "Mean Squared Error (MSE): 0.5986853\n"
     ]
    }
   ],
   "source": [
    "import numpy as np\n",
    "\n",
    "# Given data\n",
    "X = np.array([0, 1, 2, 3, 4, 5, 6, 7, 8, 9])\n",
    "Y = np.array([0.2, 0.6, 1.1, 1.5, 1.8, 2.0, 2.1, 2.2, 2.3, 2.4])\n",
    "\n",
    "# Regression equation coefficients\n",
    "coefficients = np.array([-0.001, 0.032, 0.004, 0.209])\n",
    "\n",
    "# Calculate predicted Y values\n",
    "predicted_Y = np.polyval(coefficients, X)\n",
    "print(\"Predicted_Y Values: \", predicted_Y)\n",
    "# Calculate residuals\n",
    "residuals = Y - predicted_Y\n",
    "\n",
    "print(\"Residual Values : \",residuals)\n",
    "print(\"Sum of Residual values\",sum( residuals))\n",
    "\n",
    "\n",
    "# Print residuals\n",
    "for i in range(len(X)):\n",
    "    print(f\"X = {X[i]} - Residual = {residuals[i]}\")\n",
    "\n",
    "# Calculate squared error for each X value\n",
    "squared_error = np.round((Y - predicted_Y) ** 2, 5)\n",
    "\n",
    "# Print squared error for each X value\n",
    "for i in range(len(X)):\n",
    "    print(\"Squared Error for X =\", X[i], \":\", squared_error[i])\n",
    " \n",
    "# Calculate sum of squared errors (SSE)\n",
    "sse = np.sum(residuals**2)\n",
    "\n",
    "print(\"Sum of Squared Errors (SSE):\", sse)\n",
    "    \n",
    "# Calculate mean squared error (MSE)\n",
    "mse = np.mean(residuals**2)\n",
    "\n",
    "print(\"Mean Squared Error (MSE):\", mse)"
   ]
  },
  {
   "attachments": {},
   "cell_type": "markdown",
   "metadata": {},
   "source": [
    "# 02\n",
    "## A."
   ]
  },
  {
   "cell_type": "code",
   "execution_count": 26,
   "metadata": {},
   "outputs": [
    {
     "name": "stdout",
     "output_type": "stream",
     "text": [
      "Accuracy: 0.75\n",
      "Precision: 0.8181818181818182\n",
      "Recall: 0.75\n",
      "F1 Score: 0.7826086956521738\n"
     ]
    }
   ],
   "source": [
    "# Confusion matrix values\n",
    "true_negatives = 300\n",
    "false_positives = 100\n",
    "false_negatives = 150\n",
    "true_positives = 450\n",
    "\n",
    "# Accuracy\n",
    "accuracy = (true_positives + true_negatives) / (true_positives + true_negatives + false_positives + false_negatives)\n",
    "\n",
    "# Precision\n",
    "precision = true_positives / (true_positives + false_positives)\n",
    "\n",
    "# Recall (Sensitivity)\n",
    "recall = true_positives / (true_positives + false_negatives)\n",
    "\n",
    "# F1 Score\n",
    "f1_score = 2 * (precision * recall) / (precision + recall)\n",
    "\n",
    "print(\"Accuracy:\", accuracy)\n",
    "print(\"Precision:\", precision)\n",
    "print(\"Recall:\", recall)\n",
    "print(\"F1 Score:\", f1_score)\n"
   ]
  },
  {
   "attachments": {},
   "cell_type": "markdown",
   "metadata": {},
   "source": [
    "## B.\n",
    "\n",
    "#### The given data consists of 1000 observations with two binary variables, X and Y. A logistic regression model was applied to predict Y based on X. The confusion matrix shows the number of correct and incorrect predictions for Y. We can use this information to calculate accuracy, precision, recall, and F1 score to evaluate the model's performance."
   ]
  },
  {
   "attachments": {},
   "cell_type": "markdown",
   "metadata": {},
   "source": [
    "## C.\n",
    "\n",
    "#### Logistic regression has found various real-world applications across different domains:\n",
    "\n",
    "#### Medical Diagnosis: Logistic regression has been used to predict disease outcomes and #### diagnose medical conditions based on patient characteristics and test results.\n",
    "\n",
    "#### Credit Risk Assessment: Logistic regression models help assess the creditworthiness of individuals or #### businesses by predicting the likelihood of default based on factors such as income, credit history, and loan characteristics.\n",
    "\n",
    "#### Marketing Analytics: Logistic regression is employed in customer segmentation and churn prediction, #### aiding businesses in understanding customer behavior and optimizing marketing strategies.\n",
    "\n",
    "#### Fraud Detection: Logistic regression models can identify fraudulent activities by analyzing patterns and features associated with #### fraudulent transactions, helping detect and prevent financial fraud."
   ]
  },
  {
   "cell_type": "code",
   "execution_count": null,
   "metadata": {},
   "outputs": [],
   "source": []
  },
  {
   "attachments": {},
   "cell_type": "markdown",
   "metadata": {},
   "source": [
    "# Question 03"
   ]
  },
  {
   "cell_type": "code",
   "execution_count": 62,
   "metadata": {},
   "outputs": [
    {
     "name": "stdout",
     "output_type": "stream",
     "text": [
      "X1: [ 1.76405235  0.40015721  0.97873798  2.2408932   1.86755799 -0.97727788\n",
      "  0.95008842 -0.15135721 -0.10321885  0.4105985   0.14404357  1.45427351\n",
      "  0.76103773  0.12167502  0.44386323  0.33367433  1.49407907 -0.20515826\n",
      "  0.3130677  -0.85409574 -2.55298982  0.6536186   0.8644362  -0.74216502\n",
      "  2.26975462 -1.45436567  0.04575852 -0.18718385  1.53277921  1.46935877\n",
      "  0.15494743  0.37816252 -0.88778575 -1.98079647 -0.34791215  0.15634897\n",
      "  1.23029068  1.20237985 -0.38732682 -0.30230275 -1.04855297 -1.42001794\n",
      " -1.70627019  1.9507754  -0.50965218 -0.4380743  -1.25279536  0.77749036\n",
      " -1.61389785 -0.21274028]\n",
      "X2: [-0.89546656  0.3869025  -0.51080514 -1.18063218 -0.02818223  0.42833187\n",
      "  0.06651722  0.3024719  -0.63432209 -0.36274117 -0.67246045 -0.35955316\n",
      " -0.81314628 -1.7262826   0.17742614 -0.40178094 -1.63019835  0.46278226\n",
      " -0.90729836  0.0519454   0.72909056  0.12898291  1.13940068 -1.23482582\n",
      "  0.40234164 -0.68481009 -0.87079715 -0.57884966 -0.31155253  0.05616534\n",
      " -1.16514984  0.90082649  0.46566244 -1.53624369  1.48825219  1.89588918\n",
      "  1.17877957 -0.17992484 -1.07075262  1.05445173 -0.40317695  1.22244507\n",
      "  0.20827498  0.97663904  0.3563664   0.70657317  0.01050002  1.78587049\n",
      "  0.12691209  0.40198936]\n",
      "Y: [13.09765507  3.29184786  7.21940638 13.99307966  7.64653926  3.70406981\n",
      "  6.28700619  3.04241508  8.6194706   8.38993529  9.17302745  9.89325116\n",
      "  8.10028861 12.33226279  5.08744467  7.67514786 13.82600515  3.04632661\n",
      "  8.96210987  4.05817901 -1.91682579  4.82088767  3.60890852  8.54653332\n",
      "  7.63791646  3.99606438  7.26875493  8.21144502  9.67251078  8.17768335\n",
      "  8.0354283   3.59309477  1.15310852  5.67896868 -0.79642696  0.30146371\n",
      "  4.50083346  7.73623545  7.83361094  0.13897781  2.62116732 -1.06797938\n",
      "  1.12930818  6.60666512  5.29474122  2.94861138  1.55008699  2.31438552\n",
      "  0.07556062  2.90696674]\n",
      "beta: [ 5.24567547  2.04994693 -3.18329857]\n",
      "Y_pred: [11.71242658  4.83435034  8.87808166 13.59769235  9.16378269  1.87879945\n",
      "  6.98156213  3.97254287  7.05331891  7.24209404  7.68159953  9.37142405\n",
      "  9.39424981 10.99037573  5.59077116  7.20867881 13.49786634  3.35193783\n",
      "  8.77564923  3.32946683 -2.30873111  6.17496779  3.39067124  7.65509583\n",
      "  8.61777843  4.444258    8.11148532  6.70460982  9.37955625  8.07899192\n",
      "  9.27232929  3.1532889   1.94341922  6.07547015 -0.20507705 -0.46899874\n",
      "  4.01529876  8.28324482  7.86020133  1.2693362   4.37963013 -1.55669358\n",
      "  1.08491069  6.13572786  3.0664949   2.09841305  2.64408677  1.15453046\n",
      "  1.53327145  3.52991702]\n",
      "R-squared: 0.9296837667879375\n"
     ]
    },
    {
     "data": {
      "image/png": "[encoded data removed]",
      "text/plain": [
       "<Figure size 640x480 with 1 Axes>"
      ]
     },
     "metadata": {},
     "output_type": "display_data"
    }
   ],
   "source": [
    "import numpy as np\n",
    "import matplotlib.pyplot as plt\n",
    "\n",
    "def fit_linear_regression(X, Y):\n",
    "    # Add a column of ones to the predictor matrix for the intercept term\n",
    "    X = np.c_[np.ones(X.shape[0]), X]\n",
    "    \n",
    "    # Calculate the coefficients using matrix algebra\n",
    "    beta = np.linalg.inv(X.T.dot(X)).dot(X.T).dot(Y)\n",
    "    print(\"beta:\",beta)\n",
    "    \n",
    "    # Calculate the predicted values\n",
    "    Y_pred = X.dot(beta)\n",
    "    print(\"Y_pred:\",Y_pred)\n",
    "    # Calculate the residuals\n",
    "    residuals = Y - Y_pred\n",
    "    \n",
    "    # Calculate the R-squared value\n",
    "    SS_total = np.sum((Y - np.mean(Y)) ** 2)\n",
    "    SS_residual = np.sum(residuals ** 2)\n",
    "    r_squared = 1 - (SS_residual / SS_total)\n",
    "    \n",
    "    print(\"R-squared:\", r_squared)\n",
    "    \n",
    "    return Y_pred, residuals, beta\n",
    "\n",
    "# Generate random dataset\n",
    "np.random.seed(0)\n",
    "n = 50\n",
    "X1 = np.random.randn(n)\n",
    "X2 = np.random.randn(n)\n",
    "error = np.random.randn(n)\n",
    "Y = 5 + 2*X1 - 3*X2 + error\n",
    "\n",
    "# Print the generated random dataset\n",
    "print(\"X1:\", X1)\n",
    "print(\"X2:\", X2)\n",
    "print(\"Y:\", Y)\n",
    "\n",
    "# Fit linear regression model\n",
    "X = np.column_stack((X1, X2))\n",
    "Y_pred, residuals, beta = fit_linear_regression(X, Y)\n",
    "\n",
    "# Plot residuals vs fitted\n",
    "plt.scatter(Y_pred, residuals)\n",
    "plt.xlabel('Fitted Values')\n",
    "plt.ylabel('Residuals')\n",
    "plt.title('Residuals vs Fitted')\n",
    "plt.show()\n"
   ]
  }
 ],
 "metadata": {
  "kernelspec": {
   "display_name": "Python 3",
   "language": "python",
   "name": "python3"
  },
  "language_info": {
   "codemirror_mode": {
    "name": "ipython",
    "version": 3
   },
   "file_extension": ".py",
   "mimetype": "text/x-python",
   "name": "python",
   "nbconvert_exporter": "python",
   "pygments_lexer": "ipython3",
   "version": "3.9.12"
  },
  "orig_nbformat": 4
 },
 "nbformat": 4,
 "nbformat_minor": 2
}
